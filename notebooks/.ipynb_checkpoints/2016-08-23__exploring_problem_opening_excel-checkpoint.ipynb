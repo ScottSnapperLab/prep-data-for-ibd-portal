{
 "cells": [
  {
   "cell_type": "code",
   "execution_count": 2,
   "metadata": {
    "ExecuteTime": {
     "end_time": "2016-08-23T15:57:28.211599",
     "start_time": "2016-08-23T15:57:28.208442"
    },
    "collapsed": true
   },
   "outputs": [],
   "source": [
    "import pandas as pd"
   ]
  },
  {
   "cell_type": "code",
   "execution_count": 14,
   "metadata": {
    "ExecuteTime": {
     "end_time": "2016-08-23T16:06:58.779417",
     "start_time": "2016-08-23T16:06:58.776752"
    },
    "collapsed": true
   },
   "outputs": [],
   "source": [
    "xls = \"/home/gus/src/repos/git/pipeline-repos/prep-data-for-ibd-portal/data/raw/XLSs/CHB106.xls\""
   ]
  },
  {
   "cell_type": "code",
   "execution_count": 15,
   "metadata": {
    "ExecuteTime": {
     "end_time": "2016-08-23T16:06:59.233636",
     "start_time": "2016-08-23T16:06:59.230649"
    },
    "collapsed": false
   },
   "outputs": [
    {
     "name": "stdout",
     "output_type": "stream",
     "text": [
      "Automatic pdb calling has been turned ON\n"
     ]
    }
   ],
   "source": [
    "pdb"
   ]
  },
  {
   "cell_type": "code",
   "execution_count": 17,
   "metadata": {
    "ExecuteTime": {
     "end_time": "2016-08-23T16:07:27.854749",
     "start_time": "2016-08-23T16:07:27.611995"
    },
    "collapsed": false
   },
   "outputs": [],
   "source": [
    "sheets = pd.read_excel(xls, sheetname=0, header=1, parse_cols=4)"
   ]
  },
  {
   "cell_type": "code",
   "execution_count": null,
   "metadata": {
    "collapsed": true
   },
   "outputs": [],
   "source": []
  },
  {
   "cell_type": "code",
   "execution_count": null,
   "metadata": {
    "collapsed": true
   },
   "outputs": [],
   "source": []
  }
 ],
 "metadata": {
  "kernelspec": {
   "display_name": "'ibd-port'",
   "language": "python",
   "name": "ibd-port"
  },
  "language_info": {
   "codemirror_mode": {
    "name": "ipython",
    "version": 3
   },
   "file_extension": ".py",
   "mimetype": "text/x-python",
   "name": "python",
   "nbconvert_exporter": "python",
   "pygments_lexer": "ipython3",
   "version": "3.5.2"
  }
 },
 "nbformat": 4,
 "nbformat_minor": 0
}
